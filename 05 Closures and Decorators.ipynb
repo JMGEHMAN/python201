{
 "cells": [
  {
   "cell_type": "markdown",
   "metadata": {
    "slideshow": {
     "slide_type": "slide"
    }
   },
   "source": [
    "# Functional Closures and Decorators"
   ]
  },
  {
   "cell_type": "markdown",
   "metadata": {
    "slideshow": {
     "slide_type": "subslide"
    }
   },
   "source": [
    "##  Closures\n",
    "* In order to understand closures, let's review the Python scoping rules: LEGB\n",
    "  * L = local\n",
    "  * E = enclosing\n",
    "  * G = global\n",
    "  * B = builtin (e.g., len() function)\n",
    "  \n",
    "        a = 'global scope'\n",
    "   \n",
    "       def outer_func():\n",
    "           b = 'local to outer_func()'\n",
    "            def inner_func():\n",
    "                c = 'local to inner_func()'\n",
    "                print(b, 'enclosing scope')\n",
    "                print(a, 'global scope')\n",
    "                \n",
    "* When a function references a name that is not local, Python first attempts to resolve that name in the enclosing scope\n",
    "* A *closure* is a nested function which remembers a value or values from the enclosing lexical scope even when the program flow is no longer in the enclosing scope"
   ]
  },
  {
   "cell_type": "code",
   "execution_count": 1,
   "metadata": {
    "slideshow": {
     "slide_type": "subslide"
    },
    "tags": []
   },
   "outputs": [
    {
     "output_type": "stream",
     "name": "stdout",
     "text": "id(x): 104540e20\nid(adder): 7fdc1ae280d0\nabout to call add39\nin adder\n"
    },
    {
     "output_type": "execute_result",
     "data": {
      "text/plain": "148"
     },
     "metadata": {},
     "execution_count": 1
    }
   ],
   "source": [
    "def make_adder(x):\n",
    "    print('id(x): %x' % id(x))\n",
    "    \n",
    "    def adder(y):\n",
    "        print('in adder')\n",
    "        return x + y # Python uses LEGB to find 'x'\n",
    "    \n",
    "    print('id(adder): %x' % id(adder))\n",
    "    return adder\n",
    "\n",
    "add39 = make_adder(39)\n",
    "print('about to call add39')\n",
    "add39(109)"
   ]
  },
  {
   "cell_type": "code",
   "execution_count": 2,
   "metadata": {},
   "outputs": [
    {
     "output_type": "execute_result",
     "data": {
      "text/plain": "(function, &#39;&lt;function make_adder.&lt;locals&gt;.adder at 0x7fdc1ae280d0&gt;&#39;)"
     },
     "metadata": {},
     "execution_count": 2
    }
   ],
   "source": [
    "# let's use repr so we can see the address of the function\n",
    "# we could use print(\"%X\") as well...\n",
    "type(add39), repr(add39)"
   ]
  },
  {
   "cell_type": "code",
   "execution_count": 3,
   "metadata": {
    "scrolled": true
   },
   "outputs": [
    {
     "output_type": "execute_result",
     "data": {
      "text/plain": "(&lt;cell at 0x7fdc1ae26220: int object at 0x104540e20&gt;,)"
     },
     "metadata": {},
     "execution_count": 3
    }
   ],
   "source": [
    "# all functions have a closure attribute\n",
    "add39.__closure__"
   ]
  },
  {
   "cell_type": "code",
   "execution_count": 4,
   "metadata": {},
   "outputs": [
    {
     "output_type": "execute_result",
     "data": {
      "text/plain": "39"
     },
     "metadata": {},
     "execution_count": 4
    }
   ],
   "source": [
    "# notice that the cell object has a reference to an int object\n",
    "add39.__closure__[0].cell_contents"
   ]
  },
  {
   "cell_type": "code",
   "execution_count": 5,
   "metadata": {
    "tags": []
   },
   "outputs": [
    {
     "output_type": "stream",
     "name": "stdout",
     "text": "None\n"
    }
   ],
   "source": [
    "print(make_adder.__closure__)"
   ]
  },
  {
   "cell_type": "markdown",
   "metadata": {
    "collapsed": true,
    "slideshow": {
     "slide_type": "subslide"
    }
   },
   "source": [
    "* One case where closures are frequently used is in building function wrappers\n",
    "* Suppose we want to log each invocation of a function:"
   ]
  },
  {
   "cell_type": "code",
   "execution_count": 6,
   "metadata": {
    "slideshow": {
     "slide_type": "-"
    }
   },
   "outputs": [],
   "source": [
    "def logging(f):\n",
    "    def wrapper(*args, **kwargs):\n",
    "        print('Calling %r(%r, %r)' % (f, args, kwargs))\n",
    "        return f(*args, **kwargs)\n",
    "    return wrapper"
   ]
  },
  {
   "cell_type": "code",
   "execution_count": 7,
   "metadata": {
    "slideshow": {
     "slide_type": "-"
    },
    "tags": []
   },
   "outputs": [
    {
     "output_type": "stream",
     "name": "stdout",
     "text": "in adder\n44\n"
    }
   ],
   "source": [
    "logging_add39 = logging(add39)\n",
    "print(add39(5)) # remember that add39 just adds 39 to our argument"
   ]
  },
  {
   "cell_type": "code",
   "execution_count": 8,
   "metadata": {
    "slideshow": {
     "slide_type": "-"
    },
    "tags": []
   },
   "outputs": [
    {
     "output_type": "stream",
     "name": "stdout",
     "text": "Calling &lt;function make_adder.&lt;locals&gt;.adder at 0x7fdc1ae280d0&gt;((5,), {})\nin adder\n44\n"
    }
   ],
   "source": [
    "print(logging_add39(5))"
   ]
  },
  {
   "cell_type": "markdown",
   "metadata": {
    "slideshow": {
     "slide_type": "subslide"
    }
   },
   "source": [
    "## Decorators\n",
    "* Wrapper functions are so common, that Python has its own term for it–a *decorator*.\n",
    "* Why might you want to use a decorator?\n",
    "  * sometimes you want to modify a function’s behavior without explicitly modifying the function, e.g., pre/post actions, debugging, etc. \n",
    "  * suppose we have a set of tasks that need to be performed by many different functions, e.g.,\n",
    "   * access control\n",
    "   * cleanup\n",
    "   * error handling\n",
    "   * logging\n",
    " * ...in other words, there is some boilerplate code that needs to be executed before or after  every invocation of the function\n"
   ]
  },
  {
   "cell_type": "markdown",
   "metadata": {
    "slideshow": {
     "slide_type": "subslide"
    }
   },
   "source": [
    "## Decorators build on topics we already know...\n",
    "* nested functions\n",
    "* variable positional args (`*args`)\n",
    "* variable keyword args (`**kwargs`)\n",
    "* functions are objects (actually everything in Python is an object)"
   ]
  },
  {
   "cell_type": "code",
   "execution_count": 9,
   "metadata": {},
   "outputs": [],
   "source": [
    "def document_it(func):\n",
    "    # below is a nested, or inner function\n",
    "    def new_function(*args, **kwargs):\n",
    "        print(f'Running function: {func.__name__}')\n",
    "        print(f'Positional arguments: {args}')\n",
    "        print(f'Keyword arguments: {kwargs}')\n",
    "        # here we invoke the function passed in as an argument\n",
    "        result = func(*args, **kwargs)\n",
    "        print(f'Result: {result}')\n",
    "        return result\n",
    "    \n",
    "    # document_it() is returning a reference to the inner function\n",
    "    return new_function"
   ]
  },
  {
   "cell_type": "code",
   "execution_count": 14,
   "metadata": {
    "tags": []
   },
   "outputs": [
    {
     "output_type": "stream",
     "name": "stdout",
     "text": "Running plain old add_things()\n18\n"
    }
   ],
   "source": [
    "def add_things(a, b):\n",
    "    return a + b\n",
    "\n",
    "print('Running plain old add_things()')\n",
    "print(add_things(13, 5))"
   ]
  },
  {
   "cell_type": "code",
   "execution_count": 11,
   "metadata": {
    "tags": []
   },
   "outputs": [
    {
     "output_type": "stream",
     "name": "stdout",
     "text": "Running cooler_add_things()\nRunning function: add_things\nPositional arguments: (13, 5)\nKeyword arguments: {}\nResult: 18\n"
    },
    {
     "output_type": "execute_result",
     "data": {
      "text/plain": "18"
     },
     "metadata": {},
     "execution_count": 11
    }
   ],
   "source": [
    "# manual decorator assignment\n",
    "cooler_add_things = document_it(add_things) \n",
    "\n",
    "print('Running cooler_add_things()')\n",
    "cooler_add_things(13, 5)"
   ]
  },
  {
   "cell_type": "code",
   "execution_count": 15,
   "metadata": {
    "tags": []
   },
   "outputs": [
    {
     "output_type": "stream",
     "name": "stdout",
     "text": "Running function: add_things\nPositional arguments: (13, -5)\nKeyword arguments: {}\nResult: 8\n8\n"
    }
   ],
   "source": [
    "# decorator shorthand for what we did above\n",
    "\n",
    "@document_it\n",
    "def add_things(a, b):\n",
    "    return a + b\n",
    "\n",
    "#add_things = document_it(add_things)\n",
    "\n",
    "print(add_things(13, -5))"
   ]
  },
  {
   "cell_type": "code",
   "execution_count": 13,
   "metadata": {
    "tags": []
   },
   "outputs": [
    {
     "output_type": "stream",
     "name": "stdout",
     "text": "140583320283600\nRunning function: add_things\nPositional arguments: (13, -5)\nKeyword arguments: {}\nResult: 8\n8\n140583320852656\n"
    }
   ],
   "source": [
    "print(id(add_things))\n",
    "add_things = document_it(add_things)\n",
    "print(add_things(13, -5))\n",
    "print(id(add_things))"
   ]
  },
  {
   "cell_type": "markdown",
   "metadata": {},
   "source": [
    "## Lab: Decorators\n",
    "1. Create a function called __`printer`__ that takes a string and prints it\n",
    "  * Then create a wrapper that will print the number of times each letter appears in the string passed in to __`printer`__, followed by the string.\n",
    "  * Use the wrapper as a decorator on your __`printer`__ function.\n",
    "\n",
    "2. Create some function which takes an integer as its parameter\n",
    "  * Create a wrapper that ensures the parameter is positive\n",
    "  * use that wrapper to decorate your original function\n",
    "2. Make a timer decorator that computes the elapsed time of the function wrapped by it\n"
   ]
  },
  {
   "cell_type": "code",
   "execution_count": 19,
   "metadata": {},
   "outputs": [],
   "source": [
    "from collections import Counter\n",
    "\n",
    "def count(func):\n",
    "    # below is a nested, or inner function\n",
    "    def new_function(*args, **kwargs):\n",
    "        # do some stuff\n",
    "        c = Counter(args[0])\n",
    "        print(c)\n",
    "\n",
    "        # here we invoke the function passed in as an argument\n",
    "        result = func(*args, **kwargs)\n",
    "\n",
    "        #do more stuff\n",
    "        \n",
    "        return result\n",
    "    \n",
    "    return new_function\n",
    "\n",
    "@count\n",
    "def printer(s):\n",
    "    print(s)\n",
    "    return 0"
   ]
  },
  {
   "cell_type": "code",
   "execution_count": 20,
   "metadata": {
    "tags": []
   },
   "outputs": [
    {
     "output_type": "stream",
     "name": "stdout",
     "text": "Counter({&#39;j&#39;: 4, &#39;l&#39;: 3, &#39;s&#39;: 3, &#39;i&#39;: 3, &#39;b&#39;: 3, &#39;n&#39;: 3, &#39;x&#39;: 2, &#39;h&#39;: 2, &#39;p&#39;: 2, &#39;d&#39;: 2, &#39;a&#39;: 2, &#39;k&#39;: 1, &#39;z&#39;: 1, &#39;v&#39;: 1, &#39;u&#39;: 1, &#39;q&#39;: 1, &#39;w&#39;: 1, &#39;g&#39;: 1, &#39;f&#39;: 1, &#39;.&#39;: 1})\nkljzxvhsxiuqwhlgibjnpsdajbpbndfiljas.n\n"
    },
    {
     "output_type": "execute_result",
     "data": {
      "text/plain": "0"
     },
     "metadata": {},
     "execution_count": 20
    }
   ],
   "source": [
    "printer('kljzxvhsxiuqwhlgibjnpsdajbpbndfiljas.n')"
   ]
  },
  {
   "cell_type": "code",
   "execution_count": 22,
   "metadata": {
    "tags": []
   },
   "outputs": [
    {
     "output_type": "stream",
     "name": "stdout",
     "text": "7\nnot positive\n"
    }
   ],
   "source": [
    "def pos(func):\n",
    "    # below is a nested, or inner function\n",
    "    def new_function(*args, **kwargs):\n",
    "        # do some stuff\n",
    "        for arg in args:\n",
    "            if arg > 0:\n",
    "                # here we invoke the function passed in as an argument\n",
    "                result = func(*args, **kwargs)\n",
    "            else: \n",
    "                print('not positive')\n",
    "                result = None\n",
    "\n",
    "        #do more stuff\n",
    "        \n",
    "        return result\n",
    "    \n",
    "    return new_function\n",
    "\n",
    "@pos\n",
    "def printer(s):\n",
    "    print(s)\n",
    "    return 0\n",
    "\n",
    "printer(7)\n",
    "printer(-15.6)"
   ]
  },
  {
   "cell_type": "code",
   "execution_count": 25,
   "metadata": {
    "tags": []
   },
   "outputs": [
    {
     "output_type": "stream",
     "name": "stdout",
     "text": "98\n0.0001971721649169922\n"
    }
   ],
   "source": [
    "import time\n",
    "\n",
    "def timing(func):\n",
    "    # below is a nested, or inner function\n",
    "    def new_function(*args, **kwargs):\n",
    "        # do some stuff\n",
    "        tstart = time.time()\n",
    "        result = func(*args, **kwargs)\n",
    "\n",
    "        #do more stuff\n",
    "        tend = time.time()\n",
    "        print(tend - tstart)\n",
    "        return result\n",
    "    \n",
    "    return new_function\n",
    "\n",
    "@timing\n",
    "def printer(s):\n",
    "    print(s)\n",
    "\n",
    "printer(98)"
   ]
  },
  {
   "cell_type": "code",
   "execution_count": null,
   "metadata": {},
   "outputs": [],
   "source": []
  }
 ],
 "metadata": {
  "celltoolbar": "Slideshow",
  "kernelspec": {
   "display_name": "Python 3",
   "language": "python",
   "name": "python3"
  },
  "language_info": {
   "codemirror_mode": {
    "name": "ipython",
    "version": 3
   },
   "file_extension": ".py",
   "mimetype": "text/x-python",
   "name": "python",
   "nbconvert_exporter": "python",
   "pygments_lexer": "ipython3",
   "version": "3.8.5-final"
  }
 },
 "nbformat": 4,
 "nbformat_minor": 1
}