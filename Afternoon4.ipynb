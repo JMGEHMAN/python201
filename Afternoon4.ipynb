{
 "cells": [
  {
   "cell_type": "markdown",
   "metadata": {},
   "source": [
    "# Welcome to Afternoon 4 For Intermediate Python-201"
   ]
  },
  {
   "cell_type": "markdown",
   "metadata": {},
   "source": [
    "Welcome to the final afternoon.  Today's most important exercise is brainstorming where you can use you new skills.  Talk with your breakout group and come up with at least 3 ideas as a group of how you could use your new python skills at NM.  send them to me so that I can see them and also please post them to your NM class slack so others can see them too. Remember that the only way to really learn a computer language is with your fingers, so find a project you might want to do.   \n",
    "\n",
    "Other projects:\n",
    "\n",
    "\n",
    "We passed over several of the labs, feel free to go over those.\n",
    "\n",
    "Can you take your code to look for vaccine appointments *or another project from this class or outside* that you have done and code review it, given what you have learned. If you don't want to use this example but you would prefer to use something more work related, go ahead.  Some work related project ideas are: commenting on Jira tickets to say you are working on them or they are relevant to your group, posting a message to Slack when you commit code, or following all gitlab issues that mention a certain class, file or term. Regardless of the project you choose:\n",
    "\n",
    "\n",
    "- How would you test your system? Try writing the tests.\n",
    "\n",
    "- If it calls out to an outside or dirty system, can you mock it?  \n",
    "\n",
    "- Perhaps re-writing it as a class would make it more testable?  Try it out. \n",
    "\n",
    "- Is there an opportunity to make part of it a generator?\n",
    "\n",
    "- There are other areas such as logging, multiprocessing and multithreading or building a simple web server to show the results.  \n"
   ]
  },
  {
   "cell_type": "markdown",
   "metadata": {},
   "source": [
    "### Random Extension just for Fun:\n",
    "\n",
    "I like python and I like making blinky things and I like happy kids.  For the holidays, I implemented and built this project for an energy filled member of my family.  Part of the project is a python program.  "
   ]
  },
  {
   "cell_type": "markdown",
   "metadata": {},
   "source": [
    "Check this out and see if there are any of these that might be of interest to someone in your life.  \n",
    "https://learn.adafruit.com/led-trampoline/software\n",
    "\n",
    "There are many other fun python projects on this site that can help keep your python practice up, even if you don't use it regularly at work.  You can modify the code and make it your own, or share your new skills with friends or family.  Practice and use is the key to remembering what you learned.  "
   ]
  },
  {
   "cell_type": "code",
   "execution_count": null,
   "metadata": {},
   "outputs": [],
   "source": []
  }
 ],
 "metadata": {
  "kernelspec": {
   "display_name": "Python 3",
   "language": "python",
   "name": "python3"
  },
  "language_info": {
   "codemirror_mode": {
    "name": "ipython",
    "version": 3
   },
   "file_extension": ".py",
   "mimetype": "text/x-python",
   "name": "python",
   "nbconvert_exporter": "python",
   "pygments_lexer": "ipython3",
   "version": "3.8.5"
  }
 },
 "nbformat": 4,
 "nbformat_minor": 4
}
