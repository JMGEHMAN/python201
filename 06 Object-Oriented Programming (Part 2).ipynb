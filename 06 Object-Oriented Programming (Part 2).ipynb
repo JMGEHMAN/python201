{
 "cells": [
  {
   "cell_type": "markdown",
   "metadata": {
    "slideshow": {
     "slide_type": "slide"
    }
   },
   "source": [
    "# Object-Oriented Programming (Part 2)"
   ]
  },
  {
   "cell_type": "markdown",
   "metadata": {
    "slideshow": {
     "slide_type": "slide"
    }
   },
   "source": [
    "## Object-Oriented Programming (Part 2)\n",
    "* Now that we've looked at decorators, we can delve deeper into object-oriented programming"
   ]
  },
  {
   "cell_type": "code",
   "execution_count": 1,
   "metadata": {},
   "outputs": [],
   "source": [
    "class Duck:\n",
    "    def __init__(self, name):\n",
    "        self.hidden_name = name\n",
    "        \n",
    "    def get_name(self):\n",
    "        '''getter for name attribute'''\n",
    "        print('Inside the getter')\n",
    "        return self.hidden_name\n",
    "\n",
    "    def set_name(self, val):\n",
    "        '''setter for name attribute'''\n",
    "        print('Inside the setter')\n",
    "        self.hidden_name = val\n",
    "    \n",
    "    # the property() class returns a special descriptor object\n",
    "    name = property(get_name, set_name)"
   ]
  },
  {
   "cell_type": "code",
   "execution_count": 2,
   "metadata": {},
   "outputs": [
    {
     "output_type": "execute_result",
     "data": {
      "text/plain": "&lt;property at 0x7f807460d7c0&gt;"
     },
     "metadata": {},
     "execution_count": 2
    }
   ],
   "source": [
    "property()"
   ]
  },
  {
   "cell_type": "code",
   "execution_count": 3,
   "metadata": {},
   "outputs": [
    {
     "output_type": "execute_result",
     "data": {
      "text/plain": "&lt;function property.getter&gt;"
     },
     "metadata": {},
     "execution_count": 3
    }
   ],
   "source": [
    "property().getter"
   ]
  },
  {
   "cell_type": "code",
   "execution_count": 4,
   "metadata": {},
   "outputs": [
    {
     "output_type": "execute_result",
     "data": {
      "text/plain": "&lt;function property.setter&gt;"
     },
     "metadata": {},
     "execution_count": 4
    }
   ],
   "source": [
    "property().setter"
   ]
  },
  {
   "cell_type": "code",
   "execution_count": 5,
   "metadata": {},
   "outputs": [],
   "source": [
    "fowl = Duck('Donald')"
   ]
  },
  {
   "cell_type": "code",
   "execution_count": 6,
   "metadata": {
    "tags": []
   },
   "outputs": [
    {
     "output_type": "stream",
     "name": "stdout",
     "text": "Inside the setter\n"
    }
   ],
   "source": [
    "fowl.name = 'foo' # invokes the set_name function"
   ]
  },
  {
   "cell_type": "code",
   "execution_count": 7,
   "metadata": {
    "tags": []
   },
   "outputs": [
    {
     "output_type": "stream",
     "name": "stdout",
     "text": "Inside the getter\n"
    },
    {
     "output_type": "execute_result",
     "data": {
      "text/plain": "&#39;foo&#39;"
     },
     "metadata": {},
     "execution_count": 7
    }
   ],
   "source": [
    "fowl.get_name()"
   ]
  },
  {
   "cell_type": "code",
   "execution_count": 8,
   "metadata": {
    "tags": []
   },
   "outputs": [
    {
     "output_type": "stream",
     "name": "stdout",
     "text": "Inside the setter\nInside the getter\n"
    },
    {
     "output_type": "execute_result",
     "data": {
      "text/plain": "&#39;Daffy&#39;"
     },
     "metadata": {},
     "execution_count": 8
    }
   ],
   "source": [
    "fowl.name = 'Daffy'\n",
    "fowl.name"
   ]
  },
  {
   "cell_type": "code",
   "execution_count": 9,
   "metadata": {},
   "outputs": [],
   "source": [
    "class Duck:\n",
    "    def __init__(self, name):\n",
    "        self._hidden_name = name\n",
    "        \n",
    "    @property\n",
    "    def name(self): #\n",
    "        '''getter for name attribute'''\n",
    "        print('Inside the getter')\n",
    "        return self._hidden_name\n",
    "    \n",
    "    #name = property(name)\n",
    "    \n",
    "    @name.setter\n",
    "    def name(self, val):\n",
    "        '''setter for name attribute'''\n",
    "        print('Inside the setter')\n",
    "        self._hidden_name = val"
   ]
  },
  {
   "cell_type": "code",
   "execution_count": 10,
   "metadata": {
    "tags": []
   },
   "outputs": [
    {
     "output_type": "stream",
     "name": "stdout",
     "text": "Inside the getter\n"
    },
    {
     "output_type": "execute_result",
     "data": {
      "text/plain": "&#39;Donald&#39;"
     },
     "metadata": {},
     "execution_count": 10
    }
   ],
   "source": [
    "fowl = Duck('Donald')\n",
    "fowl.name # we no longer have get_name and set_name functions"
   ]
  },
  {
   "cell_type": "code",
   "execution_count": 11,
   "metadata": {
    "tags": []
   },
   "outputs": [
    {
     "output_type": "stream",
     "name": "stdout",
     "text": "Inside the setter\nInside the getter\n"
    },
    {
     "output_type": "execute_result",
     "data": {
      "text/plain": "(&#39;Marc&#39;, &#39;Marc&#39;)"
     },
     "metadata": {},
     "execution_count": 11
    }
   ],
   "source": [
    "# but hidden_name can still be accessed from outside\n",
    "fowl.name = 'Marc'\n",
    "fowl.name, fowl._hidden_name"
   ]
  },
  {
   "cell_type": "code",
   "execution_count": 12,
   "metadata": {},
   "outputs": [],
   "source": [
    "class Duck():\n",
    "    def __init__(self, name):\n",
    "        # data which is intended to be truly private can be preceded with \"dunder\"\n",
    "        self.__name = name\n",
    "        \n",
    "    @property\n",
    "    def name(self):\n",
    "        '''getter for name attribute'''\n",
    "        print('hi')\n",
    "        return self.__name\n",
    "    \n",
    "    # name = property(name)\n",
    "    \n",
    "    @name.setter\n",
    "    def name(self, val):\n",
    "        '''setter for name attribute'''\n",
    "        self.__name = val\n"
   ]
  },
  {
   "cell_type": "code",
   "execution_count": 13,
   "metadata": {
    "tags": []
   },
   "outputs": [
    {
     "output_type": "stream",
     "name": "stdout",
     "text": "hi\n"
    },
    {
     "output_type": "execute_result",
     "data": {
      "text/plain": "&#39;Donald&#39;"
     },
     "metadata": {},
     "execution_count": 13
    }
   ],
   "source": [
    "d = Duck('Donald')\n",
    "d.name"
   ]
  },
  {
   "cell_type": "code",
   "execution_count": 14,
   "metadata": {},
   "outputs": [
    {
     "output_type": "error",
     "ename": "AttributeError",
     "evalue": "&#39;Duck&#39; object has no attribute &#39;__name&#39;",
     "traceback": [
      "\u001b[0;31m---------------------------------------------------------------------------\u001b[0m",
      "\u001b[0;31mAttributeError\u001b[0m                            Traceback (most recent call last)",
      "\u001b[0;32m&lt;ipython-input-14-6d9bf4133ef7&gt;\u001b[0m in \u001b[0;36m&lt;module&gt;\u001b[0;34m\u001b[0m\n\u001b[0;32m----&gt; 1\u001b[0;31m \u001b[0md\u001b[0m\u001b[0;34m.\u001b[0m\u001b[0m__name\u001b[0m \u001b[0;31m# finally private?\u001b[0m\u001b[0;34m\u001b[0m\u001b[0;34m\u001b[0m\u001b[0m\n\u001b[0m",
      "\u001b[0;31mAttributeError\u001b[0m: &#39;Duck&#39; object has no attribute &#39;__name&#39;"
     ]
    }
   ],
   "source": [
    "d.__name # finally private?"
   ]
  },
  {
   "cell_type": "code",
   "execution_count": 15,
   "metadata": {},
   "outputs": [
    {
     "output_type": "execute_result",
     "data": {
      "text/plain": "{&#39;_Duck__name&#39;: &#39;Donald&#39;}"
     },
     "metadata": {},
     "execution_count": 15
    }
   ],
   "source": [
    "d.__dict__"
   ]
  },
  {
   "cell_type": "code",
   "execution_count": 16,
   "metadata": {},
   "outputs": [
    {
     "output_type": "execute_result",
     "data": {
      "text/plain": "&#39;Donald&#39;"
     },
     "metadata": {},
     "execution_count": 16
    }
   ],
   "source": [
    "# not quite ... __name is mangled cannot be accessed \n",
    "# except by its mangled name\n",
    "d._Duck__name"
   ]
  },
  {
   "cell_type": "markdown",
   "metadata": {
    "collapsed": true,
    "slideshow": {
     "slide_type": "subslide"
    }
   },
   "source": [
    "# Static and Class Methods\n",
    "* static methods are methods that don't operate on an instance of the object and therefore are shared by all instances of the object\n",
    "* class methods are methods that operate on the class itself, rather than instance of the class"
   ]
  },
  {
   "cell_type": "code",
   "execution_count": 17,
   "metadata": {},
   "outputs": [],
   "source": [
    "class Duck:\n",
    "    _species = 'fowl' # class data\n",
    "    \n",
    "    def __init__(self, name):\n",
    "        # data which is intended to be truly private can be preceeded with \"dunder\"\n",
    "        self.__name = name\n",
    "        \n",
    "    @property\n",
    "    def name(self):\n",
    "        '''getter for name attribute'''\n",
    "        print('in getter')\n",
    "        return self.__name\n",
    "    \n",
    "    @name.setter\n",
    "    def name(self, val):\n",
    "        '''setter for name attribute'''\n",
    "        print('IN SETTER')\n",
    "        self.__name = val\n",
    "        \n",
    "    @staticmethod\n",
    "    def myprint(thing):\n",
    "        '''note that self is NOT the first param'''\n",
    "        print('-' * len(thing), thing, '-' * len(thing), sep='\\n')\n",
    "\n",
    "    #myprint = staticmethod(myprint)"
   ]
  },
  {
   "cell_type": "code",
   "execution_count": 18,
   "metadata": {
    "tags": []
   },
   "outputs": [
    {
     "output_type": "stream",
     "name": "stdout",
     "text": "------------\nMarc Benioff\n------------\n"
    }
   ],
   "source": [
    "d = Duck('Marc')\n",
    "Duck.myprint('Marc Benioff')"
   ]
  },
  {
   "cell_type": "code",
   "execution_count": 19,
   "metadata": {
    "tags": []
   },
   "outputs": [
    {
     "output_type": "stream",
     "name": "stdout",
     "text": "IN SETTER\n"
    }
   ],
   "source": [
    "d.name = 'Jeff'"
   ]
  },
  {
   "cell_type": "code",
   "execution_count": null,
   "metadata": {
    "tags": []
   },
   "outputs": [],
   "source": [
    "d.name"
   ]
  },
  {
   "cell_type": "code",
   "execution_count": 20,
   "metadata": {},
   "outputs": [
    {
     "output_type": "execute_result",
     "data": {
      "text/plain": "{&#39;_Duck__name&#39;: &#39;Jeff&#39;}"
     },
     "metadata": {},
     "execution_count": 20
    }
   ],
   "source": [
    "d.__dict__"
   ]
  },
  {
   "cell_type": "code",
   "execution_count": 21,
   "metadata": {},
   "outputs": [
    {
     "output_type": "execute_result",
     "data": {
      "text/plain": "&#39;Jeff&#39;"
     },
     "metadata": {},
     "execution_count": 21
    }
   ],
   "source": [
    "d._Duck__name"
   ]
  },
  {
   "cell_type": "code",
   "execution_count": 22,
   "metadata": {},
   "outputs": [],
   "source": [
    "class Example:\n",
    "    __some_data = 'blah'\n",
    "    __how_many = 0\n",
    "    \n",
    "    def __init__(self, val):\n",
    "        print('in init for Example')\n",
    "        self.name = val # instance data\n",
    "        self.__class__.__how_many += 1 # get from object to class\n",
    "        print('__how_many =', self.__class__.__how_many)\n",
    "\n",
    "    def __del__(self):\n",
    "        self.__class__.__how_many -= 1\n",
    "        \n",
    "    # We can use a static (or class) method to get around\n",
    "    # a brittle __init__ that doesn't quite do what we want.\n",
    "    @staticmethod\n",
    "    def list_init(somelist):\n",
    "        '''allow me to send in a list, and \"flatten\" it\n",
    "        into a string with intervening commas'''\n",
    "        obj = Example('')\n",
    "        obj.name = ', '.join(somelist)\n",
    "        return obj\n",
    "    \n",
    "    @classmethod\n",
    "    def get_some_data(cls):\n",
    "        return cls.__some_data\n",
    "    \n",
    "    @classmethod\n",
    "    def get_count(cls):\n",
    "        return cls.__how_many"
   ]
  },
  {
   "cell_type": "code",
   "execution_count": 23,
   "metadata": {
    "tags": []
   },
   "outputs": [
    {
     "output_type": "stream",
     "name": "stdout",
     "text": "in init for Example\n__how_many = 1\n"
    }
   ],
   "source": [
    "a = Example('foo')"
   ]
  },
  {
   "cell_type": "code",
   "execution_count": 24,
   "metadata": {
    "tags": []
   },
   "outputs": [
    {
     "output_type": "stream",
     "name": "stdout",
     "text": "in init for Example\n__how_many = 2\n"
    }
   ],
   "source": [
    "b = Example.list_init(['a', 'b', 'c'])"
   ]
  },
  {
   "cell_type": "code",
   "execution_count": 25,
   "metadata": {},
   "outputs": [
    {
     "output_type": "execute_result",
     "data": {
      "text/plain": "2"
     },
     "metadata": {},
     "execution_count": 25
    }
   ],
   "source": [
    "Example.get_count()"
   ]
  },
  {
   "cell_type": "code",
   "execution_count": 26,
   "metadata": {},
   "outputs": [
    {
     "output_type": "execute_result",
     "data": {
      "text/plain": "&#39;a, b, c&#39;"
     },
     "metadata": {},
     "execution_count": 26
    }
   ],
   "source": [
    "b.name"
   ]
  },
  {
   "cell_type": "code",
   "execution_count": 27,
   "metadata": {
    "tags": []
   },
   "outputs": [
    {
     "output_type": "stream",
     "name": "stdout",
     "text": "in init for Example\n__how_many = 3\nin init for Example\n__how_many = 4\n&lt;class &#39;__main__.Example&#39;&gt; foo foo, bar, baz &lt;class &#39;__main__.Example&#39;&gt;\n4\n"
    }
   ],
   "source": [
    "e = Example('foo')\n",
    "e2 = Example.list_init(['foo', 'bar', 'baz'])\n",
    "print(type(e), e.name, e2.name, type(e2))\n",
    "print(Example.get_count())"
   ]
  },
  {
   "cell_type": "code",
   "execution_count": 28,
   "metadata": {
    "tags": []
   },
   "outputs": [
    {
     "output_type": "stream",
     "name": "stdout",
     "text": "3\n"
    }
   ],
   "source": [
    "del e\n",
    "print(Example.get_count())"
   ]
  },
  {
   "cell_type": "code",
   "execution_count": 29,
   "metadata": {},
   "outputs": [],
   "source": [
    "e3 = e2"
   ]
  },
  {
   "cell_type": "code",
   "execution_count": 30,
   "metadata": {},
   "outputs": [],
   "source": [
    "del e3"
   ]
  },
  {
   "cell_type": "code",
   "execution_count": 31,
   "metadata": {},
   "outputs": [
    {
     "output_type": "execute_result",
     "data": {
      "text/plain": "&lt;__main__.Example at 0x7f8074628760&gt;"
     },
     "metadata": {},
     "execution_count": 31
    }
   ],
   "source": [
    "e2"
   ]
  },
  {
   "cell_type": "markdown",
   "metadata": {
    "slideshow": {
     "slide_type": "subslide"
    }
   },
   "source": [
    "# Lab: Class Methods\n",
    "* add class methods to your class which keeps track of all the instance names which have been created\n",
    "  * __`.allnames()`__ should return a list of all the names of objects which exist\n",
    "  * __`.count()`__ should return the number of objects that have ever been created\n",
    "  * we will need `__del__` to accomplish this"
   ]
  },
  {
   "cell_type": "markdown",
   "metadata": {
    "slideshow": {
     "slide_type": "subslide"
    }
   },
   "source": [
    "## The Python Data Model\n",
    "* let's return to our Pythonic deck of cards\n",
    "* we used named tuples to represent each card\n",
    "* the 'deck' is simply a list of cards"
   ]
  },
  {
   "cell_type": "code",
   "execution_count": 32,
   "metadata": {},
   "outputs": [],
   "source": [
    "import collections\n",
    "\n",
    "Card = collections.namedtuple('Card', 'rank suit')\n",
    "\n",
    "class Deck:\n",
    "    # ranks and suits are class attributes because they\n",
    "    # should be shared by all decks\n",
    "    __ranks = [str(n) for n in range(2, 11)] + list('JQKA')\n",
    "    __suits = 'clubs diamonds hearts spades'.split()\n",
    "\n",
    "    def __init__(self):\n",
    "        self._cards = [Card(rank, suit)\n",
    "            for suit in self.__class__.__suits\n",
    "                for rank in self.__class__.__ranks]"
   ]
  },
  {
   "cell_type": "code",
   "execution_count": 33,
   "metadata": {},
   "outputs": [
    {
     "output_type": "error",
     "ename": "TypeError",
     "evalue": "&#39;Deck&#39; object is not iterable",
     "traceback": [
      "\u001b[0;31m---------------------------------------------------------------------------\u001b[0m",
      "\u001b[0;31mTypeError\u001b[0m                                 Traceback (most recent call last)",
      "\u001b[0;32m&lt;ipython-input-33-73a3ad9a4866&gt;\u001b[0m in \u001b[0;36m&lt;module&gt;\u001b[0;34m\u001b[0m\n\u001b[1;32m      3\u001b[0m \u001b[0;31m# We can create a deck of cards, but it turns out it&#39;s not iterable...\u001b[0m\u001b[0;34m\u001b[0m\u001b[0;34m\u001b[0m\u001b[0;34m\u001b[0m\u001b[0m\n\u001b[1;32m      4\u001b[0m \u001b[0;34m\u001b[0m\u001b[0m\n\u001b[0;32m----&gt; 5\u001b[0;31m \u001b[0;32mfor\u001b[0m \u001b[0mcard\u001b[0m \u001b[0;32min\u001b[0m \u001b[0md\u001b[0m\u001b[0;34m:\u001b[0m\u001b[0;34m\u001b[0m\u001b[0;34m\u001b[0m\u001b[0m\n\u001b[0m\u001b[1;32m      6\u001b[0m     \u001b[0mprint\u001b[0m\u001b[0;34m(\u001b[0m\u001b[0mcard\u001b[0m\u001b[0;34m)\u001b[0m\u001b[0;34m\u001b[0m\u001b[0;34m\u001b[0m\u001b[0m\n",
      "\u001b[0;31mTypeError\u001b[0m: &#39;Deck&#39; object is not iterable"
     ]
    }
   ],
   "source": [
    "d = Deck()\n",
    "\n",
    "# We can create a deck of cards, but it turns out it's not iterable...\n",
    "\n",
    "for card in d:\n",
    "    print(card)"
   ]
  },
  {
   "cell_type": "code",
   "execution_count": 34,
   "metadata": {
    "tags": []
   },
   "outputs": [
    {
     "output_type": "stream",
     "name": "stdout",
     "text": "Card(rank=&#39;2&#39;, suit=&#39;clubs&#39;) Card(rank=&#39;3&#39;, suit=&#39;clubs&#39;) Card(rank=&#39;4&#39;, suit=&#39;clubs&#39;) Card(rank=&#39;5&#39;, suit=&#39;clubs&#39;) Card(rank=&#39;6&#39;, suit=&#39;clubs&#39;) Card(rank=&#39;7&#39;, suit=&#39;clubs&#39;) Card(rank=&#39;8&#39;, suit=&#39;clubs&#39;) Card(rank=&#39;9&#39;, suit=&#39;clubs&#39;) Card(rank=&#39;10&#39;, suit=&#39;clubs&#39;) Card(rank=&#39;J&#39;, suit=&#39;clubs&#39;) Card(rank=&#39;Q&#39;, suit=&#39;clubs&#39;) Card(rank=&#39;K&#39;, suit=&#39;clubs&#39;) Card(rank=&#39;A&#39;, suit=&#39;clubs&#39;) Card(rank=&#39;2&#39;, suit=&#39;diamonds&#39;) Card(rank=&#39;3&#39;, suit=&#39;diamonds&#39;) Card(rank=&#39;4&#39;, suit=&#39;diamonds&#39;) Card(rank=&#39;5&#39;, suit=&#39;diamonds&#39;) Card(rank=&#39;6&#39;, suit=&#39;diamonds&#39;) Card(rank=&#39;7&#39;, suit=&#39;diamonds&#39;) Card(rank=&#39;8&#39;, suit=&#39;diamonds&#39;) Card(rank=&#39;9&#39;, suit=&#39;diamonds&#39;) Card(rank=&#39;10&#39;, suit=&#39;diamonds&#39;) Card(rank=&#39;J&#39;, suit=&#39;diamonds&#39;) Card(rank=&#39;Q&#39;, suit=&#39;diamonds&#39;) Card(rank=&#39;K&#39;, suit=&#39;diamonds&#39;) Card(rank=&#39;A&#39;, suit=&#39;diamonds&#39;) Card(rank=&#39;2&#39;, suit=&#39;hearts&#39;) Card(rank=&#39;3&#39;, suit=&#39;hearts&#39;) Card(rank=&#39;4&#39;, suit=&#39;hearts&#39;) Card(rank=&#39;5&#39;, suit=&#39;hearts&#39;) Card(rank=&#39;6&#39;, suit=&#39;hearts&#39;) Card(rank=&#39;7&#39;, suit=&#39;hearts&#39;) Card(rank=&#39;8&#39;, suit=&#39;hearts&#39;) Card(rank=&#39;9&#39;, suit=&#39;hearts&#39;) Card(rank=&#39;10&#39;, suit=&#39;hearts&#39;) Card(rank=&#39;J&#39;, suit=&#39;hearts&#39;) Card(rank=&#39;Q&#39;, suit=&#39;hearts&#39;) Card(rank=&#39;K&#39;, suit=&#39;hearts&#39;) Card(rank=&#39;A&#39;, suit=&#39;hearts&#39;) Card(rank=&#39;2&#39;, suit=&#39;spades&#39;) Card(rank=&#39;3&#39;, suit=&#39;spades&#39;) Card(rank=&#39;4&#39;, suit=&#39;spades&#39;) Card(rank=&#39;5&#39;, suit=&#39;spades&#39;) Card(rank=&#39;6&#39;, suit=&#39;spades&#39;) Card(rank=&#39;7&#39;, suit=&#39;spades&#39;) Card(rank=&#39;8&#39;, suit=&#39;spades&#39;) Card(rank=&#39;9&#39;, suit=&#39;spades&#39;) Card(rank=&#39;10&#39;, suit=&#39;spades&#39;) Card(rank=&#39;J&#39;, suit=&#39;spades&#39;) Card(rank=&#39;Q&#39;, suit=&#39;spades&#39;) Card(rank=&#39;K&#39;, suit=&#39;spades&#39;) Card(rank=&#39;A&#39;, suit=&#39;spades&#39;) "
    }
   ],
   "source": [
    "# ...unless we refer to _cards directly\n",
    "\n",
    "for card in d._cards:\n",
    "    print(card, end=' ')"
   ]
  },
  {
   "cell_type": "code",
   "execution_count": 35,
   "metadata": {
    "tags": []
   },
   "outputs": [
    {
     "output_type": "stream",
     "name": "stdout",
     "text": "52\n"
    },
    {
     "output_type": "error",
     "ename": "TypeError",
     "evalue": "object of type &#39;Deck&#39; has no len()",
     "traceback": [
      "\u001b[0;31m---------------------------------------------------------------------------\u001b[0m",
      "\u001b[0;31mTypeError\u001b[0m                                 Traceback (most recent call last)",
      "\u001b[0;32m&lt;ipython-input-35-e3e4f634c4c3&gt;\u001b[0m in \u001b[0;36m&lt;module&gt;\u001b[0;34m\u001b[0m\n\u001b[1;32m      2\u001b[0m \u001b[0;31m# ...at least not without referring to `_cards` directly\u001b[0m\u001b[0;34m\u001b[0m\u001b[0;34m\u001b[0m\u001b[0;34m\u001b[0m\u001b[0m\n\u001b[1;32m      3\u001b[0m \u001b[0mprint\u001b[0m\u001b[0;34m(\u001b[0m\u001b[0mlen\u001b[0m\u001b[0;34m(\u001b[0m\u001b[0md\u001b[0m\u001b[0;34m.\u001b[0m\u001b[0m_cards\u001b[0m\u001b[0;34m)\u001b[0m\u001b[0;34m)\u001b[0m\u001b[0;34m\u001b[0m\u001b[0;34m\u001b[0m\u001b[0m\n\u001b[0;32m----&gt; 4\u001b[0;31m \u001b[0mprint\u001b[0m\u001b[0;34m(\u001b[0m\u001b[0mlen\u001b[0m\u001b[0;34m(\u001b[0m\u001b[0md\u001b[0m\u001b[0;34m)\u001b[0m\u001b[0;34m)\u001b[0m\u001b[0;34m\u001b[0m\u001b[0;34m\u001b[0m\u001b[0m\n\u001b[0m",
      "\u001b[0;31mTypeError\u001b[0m: object of type &#39;Deck&#39; has no len()"
     ]
    }
   ],
   "source": [
    "# we also cannot find the length of the deck\n",
    "# ...at least not without referring to `_cards` directly\n",
    "print(len(d._cards))\n",
    "print(len(d))"
   ]
  },
  {
   "cell_type": "markdown",
   "metadata": {
    "slideshow": {
     "slide_type": "subslide"
    }
   },
   "source": [
    "## Making our deck iterable\n",
    "* the Python data model allows us to accomplish quite a bit, just by implement the \\_\\_`len`\\_\\_`()` and \\_\\_`getitem`\\_\\_`()` methods"
   ]
  },
  {
   "cell_type": "code",
   "execution_count": 36,
   "metadata": {},
   "outputs": [],
   "source": [
    "# a deck of cards, round two\n",
    "import collections\n",
    "\n",
    "Card = collections.namedtuple('Card', ['rank', 'suit'])\n",
    "\n",
    "class Deck(object):\n",
    "    ranks = [str(n) for n in range(2, 11)] + list('JQKA')\n",
    "    suits = 'clubs diamonds hearts spades'.split()\n",
    "\n",
    "    def __init__(self):\n",
    "        self._cards = [Card(rank, suit) for suit in self.suits\n",
    "                                        for rank in self.ranks]\n",
    "    def __len__(self):\n",
    "        return len(self._cards)\n",
    "\n",
    "    def __getitem__(self, position):\n",
    "        return self._cards[position]\n",
    "        #return list.__getitem__(self._cards, position)"
   ]
  },
  {
   "cell_type": "code",
   "execution_count": 37,
   "metadata": {},
   "outputs": [
    {
     "output_type": "execute_result",
     "data": {
      "text/plain": "52"
     },
     "metadata": {},
     "execution_count": 37
    }
   ],
   "source": [
    "deck = Deck()\n",
    "len(deck)"
   ]
  },
  {
   "cell_type": "code",
   "execution_count": 38,
   "metadata": {
    "tags": []
   },
   "outputs": [
    {
     "output_type": "stream",
     "name": "stdout",
     "text": "Card(rank=&#39;2&#39;, suit=&#39;clubs&#39;) Card(rank=&#39;3&#39;, suit=&#39;clubs&#39;) Card(rank=&#39;4&#39;, suit=&#39;clubs&#39;) Card(rank=&#39;5&#39;, suit=&#39;clubs&#39;) Card(rank=&#39;6&#39;, suit=&#39;clubs&#39;) Card(rank=&#39;7&#39;, suit=&#39;clubs&#39;) Card(rank=&#39;8&#39;, suit=&#39;clubs&#39;) Card(rank=&#39;9&#39;, suit=&#39;clubs&#39;) Card(rank=&#39;10&#39;, suit=&#39;clubs&#39;) Card(rank=&#39;J&#39;, suit=&#39;clubs&#39;) Card(rank=&#39;Q&#39;, suit=&#39;clubs&#39;) Card(rank=&#39;K&#39;, suit=&#39;clubs&#39;) Card(rank=&#39;A&#39;, suit=&#39;clubs&#39;) Card(rank=&#39;2&#39;, suit=&#39;diamonds&#39;) Card(rank=&#39;3&#39;, suit=&#39;diamonds&#39;) Card(rank=&#39;4&#39;, suit=&#39;diamonds&#39;) Card(rank=&#39;5&#39;, suit=&#39;diamonds&#39;) Card(rank=&#39;6&#39;, suit=&#39;diamonds&#39;) Card(rank=&#39;7&#39;, suit=&#39;diamonds&#39;) Card(rank=&#39;8&#39;, suit=&#39;diamonds&#39;) Card(rank=&#39;9&#39;, suit=&#39;diamonds&#39;) Card(rank=&#39;10&#39;, suit=&#39;diamonds&#39;) Card(rank=&#39;J&#39;, suit=&#39;diamonds&#39;) Card(rank=&#39;Q&#39;, suit=&#39;diamonds&#39;) Card(rank=&#39;K&#39;, suit=&#39;diamonds&#39;) Card(rank=&#39;A&#39;, suit=&#39;diamonds&#39;) Card(rank=&#39;2&#39;, suit=&#39;hearts&#39;) Card(rank=&#39;3&#39;, suit=&#39;hearts&#39;) Card(rank=&#39;4&#39;, suit=&#39;hearts&#39;) Card(rank=&#39;5&#39;, suit=&#39;hearts&#39;) Card(rank=&#39;6&#39;, suit=&#39;hearts&#39;) Card(rank=&#39;7&#39;, suit=&#39;hearts&#39;) Card(rank=&#39;8&#39;, suit=&#39;hearts&#39;) Card(rank=&#39;9&#39;, suit=&#39;hearts&#39;) Card(rank=&#39;10&#39;, suit=&#39;hearts&#39;) Card(rank=&#39;J&#39;, suit=&#39;hearts&#39;) Card(rank=&#39;Q&#39;, suit=&#39;hearts&#39;) Card(rank=&#39;K&#39;, suit=&#39;hearts&#39;) Card(rank=&#39;A&#39;, suit=&#39;hearts&#39;) Card(rank=&#39;2&#39;, suit=&#39;spades&#39;) Card(rank=&#39;3&#39;, suit=&#39;spades&#39;) Card(rank=&#39;4&#39;, suit=&#39;spades&#39;) Card(rank=&#39;5&#39;, suit=&#39;spades&#39;) Card(rank=&#39;6&#39;, suit=&#39;spades&#39;) Card(rank=&#39;7&#39;, suit=&#39;spades&#39;) Card(rank=&#39;8&#39;, suit=&#39;spades&#39;) Card(rank=&#39;9&#39;, suit=&#39;spades&#39;) Card(rank=&#39;10&#39;, suit=&#39;spades&#39;) Card(rank=&#39;J&#39;, suit=&#39;spades&#39;) Card(rank=&#39;Q&#39;, suit=&#39;spades&#39;) Card(rank=&#39;K&#39;, suit=&#39;spades&#39;) Card(rank=&#39;A&#39;, suit=&#39;spades&#39;) "
    }
   ],
   "source": [
    "for card in deck:\n",
    "    print(card, end=' ')"
   ]
  },
  {
   "cell_type": "markdown",
   "metadata": {
    "slideshow": {
     "slide_type": "subslide"
    }
   },
   "source": [
    "### ...but just by implementing \\_\\_`getitem`\\_\\_`()`, we get so much more!"
   ]
  },
  {
   "cell_type": "code",
   "execution_count": 39,
   "metadata": {},
   "outputs": [
    {
     "output_type": "execute_result",
     "data": {
      "text/plain": "(Card(rank=&#39;2&#39;, suit=&#39;clubs&#39;), Card(rank=&#39;A&#39;, suit=&#39;spades&#39;))"
     },
     "metadata": {},
     "execution_count": 39
    }
   ],
   "source": [
    "# like indexing\n",
    "deck[0], deck[-1]"
   ]
  },
  {
   "cell_type": "code",
   "execution_count": 40,
   "metadata": {},
   "outputs": [
    {
     "output_type": "execute_result",
     "data": {
      "text/plain": "[Card(rank=&#39;J&#39;, suit=&#39;clubs&#39;),\n Card(rank=&#39;Q&#39;, suit=&#39;clubs&#39;),\n Card(rank=&#39;K&#39;, suit=&#39;clubs&#39;),\n Card(rank=&#39;A&#39;, suit=&#39;clubs&#39;)]"
     },
     "metadata": {},
     "execution_count": 40
    }
   ],
   "source": [
    "# ...and slicing!\n",
    "deck[9:13]"
   ]
  },
  {
   "cell_type": "code",
   "execution_count": 41,
   "metadata": {},
   "outputs": [
    {
     "output_type": "execute_result",
     "data": {
      "text/plain": "[Card(rank=&#39;A&#39;, suit=&#39;clubs&#39;),\n Card(rank=&#39;A&#39;, suit=&#39;diamonds&#39;),\n Card(rank=&#39;A&#39;, suit=&#39;hearts&#39;),\n Card(rank=&#39;A&#39;, suit=&#39;spades&#39;)]"
     },
     "metadata": {},
     "execution_count": 41
    }
   ],
   "source": [
    "deck[12::13]"
   ]
  },
  {
   "cell_type": "code",
   "execution_count": 42,
   "metadata": {},
   "outputs": [
    {
     "output_type": "execute_result",
     "data": {
      "text/plain": "[Card(rank=&#39;A&#39;, suit=&#39;spades&#39;),\n Card(rank=&#39;K&#39;, suit=&#39;spades&#39;),\n Card(rank=&#39;Q&#39;, suit=&#39;spades&#39;),\n Card(rank=&#39;J&#39;, suit=&#39;spades&#39;),\n Card(rank=&#39;10&#39;, suit=&#39;spades&#39;),\n Card(rank=&#39;9&#39;, suit=&#39;spades&#39;),\n Card(rank=&#39;8&#39;, suit=&#39;spades&#39;),\n Card(rank=&#39;7&#39;, suit=&#39;spades&#39;),\n Card(rank=&#39;6&#39;, suit=&#39;spades&#39;),\n Card(rank=&#39;5&#39;, suit=&#39;spades&#39;),\n Card(rank=&#39;4&#39;, suit=&#39;spades&#39;),\n Card(rank=&#39;3&#39;, suit=&#39;spades&#39;),\n Card(rank=&#39;2&#39;, suit=&#39;spades&#39;),\n Card(rank=&#39;A&#39;, suit=&#39;hearts&#39;),\n Card(rank=&#39;K&#39;, suit=&#39;hearts&#39;),\n Card(rank=&#39;Q&#39;, suit=&#39;hearts&#39;),\n Card(rank=&#39;J&#39;, suit=&#39;hearts&#39;),\n Card(rank=&#39;10&#39;, suit=&#39;hearts&#39;),\n Card(rank=&#39;9&#39;, suit=&#39;hearts&#39;),\n Card(rank=&#39;8&#39;, suit=&#39;hearts&#39;),\n Card(rank=&#39;7&#39;, suit=&#39;hearts&#39;),\n Card(rank=&#39;6&#39;, suit=&#39;hearts&#39;),\n Card(rank=&#39;5&#39;, suit=&#39;hearts&#39;),\n Card(rank=&#39;4&#39;, suit=&#39;hearts&#39;),\n Card(rank=&#39;3&#39;, suit=&#39;hearts&#39;),\n Card(rank=&#39;2&#39;, suit=&#39;hearts&#39;),\n Card(rank=&#39;A&#39;, suit=&#39;diamonds&#39;),\n Card(rank=&#39;K&#39;, suit=&#39;diamonds&#39;),\n Card(rank=&#39;Q&#39;, suit=&#39;diamonds&#39;),\n Card(rank=&#39;J&#39;, suit=&#39;diamonds&#39;),\n Card(rank=&#39;10&#39;, suit=&#39;diamonds&#39;),\n Card(rank=&#39;9&#39;, suit=&#39;diamonds&#39;),\n Card(rank=&#39;8&#39;, suit=&#39;diamonds&#39;),\n Card(rank=&#39;7&#39;, suit=&#39;diamonds&#39;),\n Card(rank=&#39;6&#39;, suit=&#39;diamonds&#39;),\n Card(rank=&#39;5&#39;, suit=&#39;diamonds&#39;),\n Card(rank=&#39;4&#39;, suit=&#39;diamonds&#39;),\n Card(rank=&#39;3&#39;, suit=&#39;diamonds&#39;),\n Card(rank=&#39;2&#39;, suit=&#39;diamonds&#39;),\n Card(rank=&#39;A&#39;, suit=&#39;clubs&#39;),\n Card(rank=&#39;K&#39;, suit=&#39;clubs&#39;),\n Card(rank=&#39;Q&#39;, suit=&#39;clubs&#39;)]"
     },
     "metadata": {},
     "execution_count": 42
    }
   ],
   "source": [
    "deck[52:9:-1]"
   ]
  },
  {
   "cell_type": "markdown",
   "metadata": {
    "slideshow": {
     "slide_type": "subslide"
    }
   },
   "source": [
    "## What about a method to pick a random card?\n",
    "* no need because Python already has a function to choose a random item from a sequence"
   ]
  },
  {
   "cell_type": "code",
   "execution_count": 43,
   "metadata": {},
   "outputs": [
    {
     "output_type": "execute_result",
     "data": {
      "text/plain": "Card(rank=&#39;7&#39;, suit=&#39;clubs&#39;)"
     },
     "metadata": {},
     "execution_count": 43
    }
   ],
   "source": [
    "from random import choice\n",
    "choice(deck)"
   ]
  },
  {
   "cell_type": "markdown",
   "metadata": {
    "slideshow": {
     "slide_type": "subslide"
    }
   },
   "source": [
    "## Two big advantages of using special methods to leverage the Python data model\n",
    "*  users of your classes don’t have to memorize arbitrary method names for standard operations (“How to get the number of items? Is it __`.size()`__, __`.length()`__, or what?”)\n",
    "* it’s easier to benefit from the rich Python standard library and avoid reinventing the wheel, e.g., __`random.choice()`__"
   ]
  },
  {
   "cell_type": "markdown",
   "metadata": {},
   "source": [
    "# Private Class Methods?"
   ]
  },
  {
   "cell_type": "code",
   "execution_count": 44,
   "metadata": {},
   "outputs": [],
   "source": [
    "'''Python's name-mangling feature allows us to have somewhat\n",
    "   private methods and data. As we'll see, though, they can\n",
    "   still be accessed outside the class, if you're determined.\n",
    "'''\n",
    "class MyClass(object):\n",
    "    def __init__(self, name):\n",
    "        self.name = name\n",
    "        \n",
    "    def public(self):\n",
    "        print('This is a public method...name =', self.name)\n",
    "        print('It can call its own private method, of course...')\n",
    "        self.__class__.__private()\n",
    "    \n",
    "    @staticmethod\n",
    "    def __private():\n",
    "        print('\\tThis is a \"private\" method!')"
   ]
  },
  {
   "cell_type": "code",
   "execution_count": 45,
   "metadata": {
    "tags": []
   },
   "outputs": [
    {
     "output_type": "stream",
     "name": "stdout",
     "text": "This is a public method...name = Dave\nIt can call its own private method, of course...\n\tThis is a &quot;private&quot; method!\n"
    }
   ],
   "source": [
    "c = MyClass('Dave')\n",
    "c.public()"
   ]
  },
  {
   "cell_type": "code",
   "execution_count": 46,
   "metadata": {},
   "outputs": [
    {
     "output_type": "error",
     "ename": "AttributeError",
     "evalue": "&#39;MyClass&#39; object has no attribute &#39;__private&#39;",
     "traceback": [
      "\u001b[0;31m---------------------------------------------------------------------------\u001b[0m",
      "\u001b[0;31mAttributeError\u001b[0m                            Traceback (most recent call last)",
      "\u001b[0;32m&lt;ipython-input-46-538d22542075&gt;\u001b[0m in \u001b[0;36m&lt;module&gt;\u001b[0;34m\u001b[0m\n\u001b[1;32m      1\u001b[0m \u001b[0;31m# Try to call the private method...\u001b[0m\u001b[0;34m\u001b[0m\u001b[0;34m\u001b[0m\u001b[0;34m\u001b[0m\u001b[0m\n\u001b[0;32m----&gt; 2\u001b[0;31m \u001b[0mc\u001b[0m\u001b[0;34m.\u001b[0m\u001b[0m__private\u001b[0m\u001b[0;34m(\u001b[0m\u001b[0;34m)\u001b[0m\u001b[0;34m\u001b[0m\u001b[0;34m\u001b[0m\u001b[0m\n\u001b[0m",
      "\u001b[0;31mAttributeError\u001b[0m: &#39;MyClass&#39; object has no attribute &#39;__private&#39;"
     ]
    }
   ],
   "source": [
    "# Try to call the private method...\n",
    "c.__private()"
   ]
  },
  {
   "cell_type": "code",
   "execution_count": 47,
   "metadata": {
    "tags": []
   },
   "outputs": [
    {
     "output_type": "stream",
     "name": "stdout",
     "text": "\tThis is a &quot;private&quot; method!\n"
    }
   ],
   "source": [
    "# ...but we *can* access the private method if we understand\n",
    "# \"name mangling\", which adds _classname at the beginning...\n",
    "c._MyClass__private()"
   ]
  },
  {
   "cell_type": "code",
   "execution_count": null,
   "metadata": {},
   "outputs": [],
   "source": []
  }
 ],
 "metadata": {
  "celltoolbar": "Slideshow",
  "kernelspec": {
   "display_name": "Python 3",
   "language": "python",
   "name": "python3"
  },
  "language_info": {
   "codemirror_mode": {
    "name": "ipython",
    "version": 3
   },
   "file_extension": ".py",
   "mimetype": "text/x-python",
   "name": "python",
   "nbconvert_exporter": "python",
   "pygments_lexer": "ipython3",
   "version": "3.8.5-final"
  }
 },
 "nbformat": 4,
 "nbformat_minor": 2
}